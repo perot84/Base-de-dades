{
 "cells": [
  {
   "cell_type": "markdown",
   "id": "1bea6594",
   "metadata": {},
   "source": [
    "- Exercici 1\n",
    "\n",
    "Crea una funció que donat un Array d’una dimensió, et faci un resum estadístic bàsic de les dades. Si detecta que l’array té més d’una dimensió, ha de mostrar un missatge d’error."
   ]
  },
  {
   "cell_type": "code",
   "execution_count": 18,
   "id": "1f1ee53d",
   "metadata": {},
   "outputs": [
    {
     "name": "stdout",
     "output_type": "stream",
     "text": [
      "Mitjana: 3.5\n",
      "Media: 3.5\n",
      "Coeficient de correlació: 1.0\n",
      "Desviació estàndard: 1.118033988749895\n"
     ]
    }
   ],
   "source": [
    "import numpy as np\n",
    "def resum_estadistic (arr):\n",
    "    print (\"Mitjana:\", (np.mean (arr)))\n",
    "    print (\"Media:\", (np.median(arr)))\n",
    "    print (\"Coeficient de correlació:\", (np.corrcoef(arr)))\n",
    "    print (\"Desviació estàndard:\", (np.std(arr)))\n",
    "x= [2,4,5,3]\n",
    "arr =np.array (x)\n",
    "dimensions= arr.ndim\n",
    "if dimensions > 1:\n",
    "    print (\"error\")\n",
    "else:\n",
    "    resum_estadistic (arr)"
   ]
  },
  {
   "cell_type": "markdown",
   "id": "cf6feb2e",
   "metadata": {},
   "source": [
    "- Exercici 2\n",
    "\n",
    "Crea una funció que et generi un quadrat NxN de nombres aleatoris entre el 0 i el 100"
   ]
  },
  {
   "cell_type": "code",
   "execution_count": 20,
   "id": "cb76ce8a",
   "metadata": {},
   "outputs": [
    {
     "name": "stdout",
     "output_type": "stream",
     "text": [
      "[[26 24 94 74]\n",
      " [ 5  2 88  0]\n",
      " [60 14 62 95]\n",
      " [18 65 72 63]]\n"
     ]
    }
   ],
   "source": [
    "arr_random_q= np.random.randint(100, size=(4,4))\n",
    "print (arr_random_q)"
   ]
  },
  {
   "cell_type": "markdown",
   "id": "440de0b8",
   "metadata": {},
   "source": [
    "- Exercici 3\n",
    "\n",
    "Crea una funció que donada una taula de dues dimensions (NxM), et calculi els totals per fila i els totals per columna."
   ]
  },
  {
   "cell_type": "code",
   "execution_count": 21,
   "id": "69ad0b6d",
   "metadata": {},
   "outputs": [
    {
     "name": "stdout",
     "output_type": "stream",
     "text": [
      "[237 206 182 311]\n",
      "[232 265 101 195 143]\n"
     ]
    }
   ],
   "source": [
    "arr_random_r= np.random.randint (100, size= (5,4))\n",
    "#print (arr_random_r)\n",
    "x = arr_random_r\n",
    "def total_files_i_columnes(x):\n",
    "    suma_columnes= np.sum (x, axis=0)\n",
    "    print (suma_columnes)\n",
    "    suma_files= np.sum (x, axis=1)\n",
    "    print (suma_files)\n",
    "total_files_i_columnes (arr_random_r)"
   ]
  },
  {
   "cell_type": "markdown",
   "id": "5d190501",
   "metadata": {},
   "source": [
    "- Exercici 4\n",
    "\n",
    "Implementa manualment una funció que calculi el coeficient de correlació. Informa-te'n sobre els seus usos i interpretació."
   ]
  },
  {
   "cell_type": "code",
   "execution_count": 22,
   "id": "ff4ff9b0",
   "metadata": {},
   "outputs": [
    {
     "name": "stdout",
     "output_type": "stream",
     "text": [
      "Coeficient de correlació és 0.9868082258449881\n"
     ]
    }
   ],
   "source": [
    "import numpy as np\n",
    "alçades = [178, 182, 190, 152, 122]\n",
    "pesos = [73, 77,83, 60, 50]\n",
    "mitja_alçades = np.mean (alçades)\n",
    "mitja_pesos = np.mean (pesos)\n",
    "distancia_alçades = alçades - mitja_alçades\n",
    "distancia_pesos = pesos - mitja_pesos\n",
    "numerador = np.sum (distancia_alçades * distancia_pesos)\n",
    "#print (mitja_alçades)\n",
    "#print (numerador)\n",
    "#print (distancia_alçades)\n",
    "#print (distancia_pesos)\n",
    "distancia_alçadesq = np.square (distancia_alçades)\n",
    "distancia_pesosq = np.square (distancia_pesos)\n",
    "#print (distancia_alçadesq)\n",
    "#print (distancia_pesosq)\n",
    "sum_distancia_alçadesq =np.sum (distancia_alçadesq)\n",
    "#print (sum_distancia_alçadesq)\n",
    "sum_distancia_pesosq = np.sum (distancia_pesosq)\n",
    "#print (sum_distancia_pesosq)\n",
    "mult_sdpq_sdaq = sum_distancia_alçadesq * sum_distancia_pesosq\n",
    "#print (mult_sdpq_sdaq)\n",
    "denominador = np.sqrt (mult_sdpq_sdaq)\n",
    "#print (denominador)\n",
    "coeficient_correlació = numerador / denominador\n",
    "print (\"Coeficient de correlació és\",coeficient_correlació)"
   ]
  },
  {
   "cell_type": "code",
   "execution_count": null,
   "id": "6b90fb97",
   "metadata": {},
   "outputs": [],
   "source": []
  }
 ],
 "metadata": {
  "kernelspec": {
   "display_name": "Python 3 (ipykernel)",
   "language": "python",
   "name": "python3"
  },
  "language_info": {
   "codemirror_mode": {
    "name": "ipython",
    "version": 3
   },
   "file_extension": ".py",
   "mimetype": "text/x-python",
   "name": "python",
   "nbconvert_exporter": "python",
   "pygments_lexer": "ipython3",
   "version": "3.8.10"
  }
 },
 "nbformat": 4,
 "nbformat_minor": 5
}
