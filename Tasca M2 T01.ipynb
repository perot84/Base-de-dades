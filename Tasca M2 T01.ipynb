{
 "cells": [
  {
   "cell_type": "markdown",
   "id": "69191233",
   "metadata": {},
   "source": [
    "Primer exercici"
   ]
  },
  {
   "cell_type": "code",
   "execution_count": 3,
   "id": "442c2711",
   "metadata": {},
   "outputs": [],
   "source": [
    "t1 = [\"gener\", \"febrer\", \"març\"]\n",
    "t2= [\"abril\",\"maig\",\"juny\"]\n",
    "t3=[\"juliol\",\"agost\",\"setembre\"]\n",
    "t4=[\"octubre\",\"novembre\",\"desembre\"]\n",
    "any= [t1, t2, t3, t4]"
   ]
  },
  {
   "cell_type": "markdown",
   "id": "7d59cf16",
   "metadata": {},
   "source": [
    "Segon exercici"
   ]
  },
  {
   "cell_type": "code",
   "execution_count": 4,
   "id": "f04dd704",
   "metadata": {},
   "outputs": [
    {
     "name": "stdout",
     "output_type": "stream",
     "text": [
      "febrer\n"
     ]
    }
   ],
   "source": [
    "print (any [0][1])"
   ]
  },
  {
   "cell_type": "code",
   "execution_count": 5,
   "id": "74f26534",
   "metadata": {},
   "outputs": [
    {
     "name": "stdout",
     "output_type": "stream",
     "text": [
      "['gener', 'febrer', 'març']\n"
     ]
    }
   ],
   "source": [
    "print (any [0])"
   ]
  },
  {
   "cell_type": "code",
   "execution_count": 10,
   "id": "1b631b5d",
   "metadata": {},
   "outputs": [
    {
     "name": "stdout",
     "output_type": "stream",
     "text": [
      "setembre i octubre\n"
     ]
    }
   ],
   "source": [
    "print (any [2][2], \"i\", any [3][0])"
   ]
  },
  {
   "cell_type": "markdown",
   "id": "8c3b3d15",
   "metadata": {},
   "source": [
    "Tercer exercici"
   ]
  },
  {
   "cell_type": "code",
   "execution_count": 46,
   "id": "d26a3a58",
   "metadata": {},
   "outputs": [
    {
     "name": "stdout",
     "output_type": "stream",
     "text": [
      "19\n",
      "3\n",
      "7\n",
      "55\n",
      "[44, 54, 55]\n"
     ]
    },
    {
     "ename": "AttributeError",
     "evalue": "'list' object has no attribute 'range'",
     "output_type": "error",
     "traceback": [
      "\u001b[0;31m---------------------------------------------------------------------------\u001b[0m",
      "\u001b[0;31mAttributeError\u001b[0m                            Traceback (most recent call last)",
      "Input \u001b[0;32mIn [46]\u001b[0m, in \u001b[0;36m<cell line: 8>\u001b[0;34m()\u001b[0m\n\u001b[1;32m      6\u001b[0m llista_desordenada\u001b[38;5;241m.\u001b[39msort()\n\u001b[1;32m      7\u001b[0m \u001b[38;5;28mprint\u001b[39m (llista_desordenada[\u001b[38;5;241m-\u001b[39m\u001b[38;5;241m3\u001b[39m:])\n\u001b[0;32m----> 8\u001b[0m \u001b[43mllista_desordenada\u001b[49m\u001b[38;5;241;43m.\u001b[39;49m\u001b[43mrange\u001b[49m\n",
      "\u001b[0;31mAttributeError\u001b[0m: 'list' object has no attribute 'range'"
     ]
    }
   ],
   "source": [
    "llista_desordenada = [5,4,3,8,55,2,3,54,4,6,22,1,3,4,6,44,8,9,4]\n",
    "print (len (llista_desordenada))\n",
    "print (llista_desordenada.count (3))\n",
    "print (llista_desordenada.count (3) + llista_desordenada.count (4))\n",
    "print (max (llista_desordenada))\n",
    "llista_desordenada.sort()\n",
    "print (llista_desordenada[-3:])\n",
    "llista_desordenada.range"
   ]
  },
  {
   "cell_type": "markdown",
   "id": "2e4cec92",
   "metadata": {},
   "source": [
    "Quart exercici"
   ]
  },
  {
   "cell_type": "code",
   "execution_count": 80,
   "id": "72f8c509",
   "metadata": {},
   "outputs": [
    {
     "name": "stdout",
     "output_type": "stream",
     "text": [
      "{'Pomes': {'Qty': 5, '€': 0.42}, 'Peres': {'Qty': 3, '€': 0.66}, 'Mandarines': {'Qty': 4, '€': 0.55}}\n",
      "1.98\n",
      "12\n"
     ]
    }
   ],
   "source": [
    "compra = { \"Pomes\" : {\"Qty\": 5, \"€\": 0.42}, \"Peres\" : {\"Qty\": 3, \"€\": 0.66} }\n",
    "compra[\"Mandarines\"] = {\"Qty\":4, \"€\": 0.55}\n",
    "print (compra)\n",
    "preu_total_peres = compra [\"Peres\"][\"Qty\"]*compra [\"Peres\"][\"€\"]\n",
    "print (preu_total_peres)\n",
    "quantitat_fruites = compra [\"Peres\"][\"Qty\"]+ compra [\"Pomes\"][\"Qty\"] + compra [\"Mandarines\"][\"Qty\"]\n",
    "print (quantitat_fruites)\n",
    "#Quina és la fruita més cara?\n"
   ]
  },
  {
   "cell_type": "code",
   "execution_count": 88,
   "id": "7b65a009",
   "metadata": {},
   "outputs": [
    {
     "data": {
      "text/plain": [
       "dict_values([{'Qty': 5, '€': 0.42}, {'Qty': 3, '€': 0.66}, {'Qty': 4, '€': 0.55}])"
      ]
     },
     "execution_count": 88,
     "metadata": {},
     "output_type": "execute_result"
    }
   ],
   "source": [
    "compra.values()"
   ]
  },
  {
   "cell_type": "code",
   "execution_count": null,
   "id": "d4294c36",
   "metadata": {},
   "outputs": [],
   "source": []
  }
 ],
 "metadata": {
  "kernelspec": {
   "display_name": "Python 3 (ipykernel)",
   "language": "python",
   "name": "python3"
  },
  "language_info": {
   "codemirror_mode": {
    "name": "ipython",
    "version": 3
   },
   "file_extension": ".py",
   "mimetype": "text/x-python",
   "name": "python",
   "nbconvert_exporter": "python",
   "pygments_lexer": "ipython3",
   "version": "3.8.10"
  }
 },
 "nbformat": 4,
 "nbformat_minor": 5
}
