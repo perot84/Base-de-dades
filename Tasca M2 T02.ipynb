{
 "cells": [
  {
   "cell_type": "markdown",
   "id": "9f4c560d",
   "metadata": {},
   "source": [
    "Exercici 1"
   ]
  },
  {
   "cell_type": "code",
   "execution_count": 10,
   "id": "f47a4823",
   "metadata": {},
   "outputs": [
    {
     "name": "stdout",
     "output_type": "stream",
     "text": [
      "6\n",
      "aprovat\n"
     ]
    }
   ],
   "source": [
    "a = int (input())\n",
    "\n",
    "if a < 5:\n",
    "    print (\"suspès\")\n",
    "elif 5 <= a <7:\n",
    "    print (\"aprovat\")\n",
    "elif 7 <= a < 9:\n",
    "    print (\"notable\")\n",
    "elif 9 <= a <=10:\n",
    "    print (\"excelent\")\n",
    "else:\n",
    "    print (\"error\")\n"
   ]
  },
  {
   "cell_type": "markdown",
   "id": "d80f53af",
   "metadata": {},
   "source": [
    "Exercici 2"
   ]
  },
  {
   "cell_type": "code",
   "execution_count": 13,
   "id": "f79ae9d5",
   "metadata": {},
   "outputs": [
    {
     "name": "stdout",
     "output_type": "stream",
     "text": [
      "7\n",
      "3\n",
      "7 és més gran que  3\n"
     ]
    }
   ],
   "source": [
    "b = int (input())\n",
    "c = int (input())\n",
    "if b<c:\n",
    "    print (c,\"és més gran que \",b)\n",
    "elif c<b:\n",
    "    print (b, \"és més gran que \",c)\n",
    "else:\n",
    "    print (\"Són iguals\")\n"
   ]
  },
  {
   "cell_type": "markdown",
   "id": "d7585dfc",
   "metadata": {},
   "source": [
    "Exercici 3\n",
    "\n",
    "Crea un programa que et pregunti el teu nom, i et demani un número. Si el número és 0, hauria de mostrar un missatge d’error. En cas contrari, hauria de mostrar el nom repetit tants cops com indiqui el número. Per exemple, “Joan Joan Joan”."
   ]
  },
  {
   "cell_type": "code",
   "execution_count": 14,
   "id": "4f45cbf5",
   "metadata": {},
   "outputs": [
    {
     "name": "stdout",
     "output_type": "stream",
     "text": [
      "Com et dius?Pere\n",
      "digues un número6\n",
      "Pere Pere Pere Pere Pere Pere \n"
     ]
    }
   ],
   "source": [
    "nom = input (\"Com et dius?\")\n",
    "número = int (input(\"digues un número\"))\n",
    "if número <= 0:\n",
    "    print (\"error\")\n",
    "else:\n",
    "    print ((nom+\" \")*número)\n"
   ]
  },
  {
   "cell_type": "markdown",
   "id": "48eccc51",
   "metadata": {},
   "source": [
    "- Exercici 4\n",
    "\n",
    "Crea un programa que donada una llista qualsevol, et digui si és simètrica o no. Si ho és, que et digui quants elements té."
   ]
  },
  {
   "cell_type": "code",
   "execution_count": 21,
   "id": "a55c9dfb",
   "metadata": {},
   "outputs": [
    {
     "name": "stdout",
     "output_type": "stream",
     "text": [
      "És simètrica i té 8 elements\n"
     ]
    }
   ],
   "source": [
    "llista= (1,2,3,4,4,3,2,1)\n",
    "ll_llista= len (llista)\n",
    "inici= 0\n",
    "final = ll_llista -1\n",
    "e_inici = llista [inici]\n",
    "e_final = llista [final]\n",
    "if e_inici==e_final:\n",
    "    while e_inici==e_final:\n",
    "        e_inici+=1 \n",
    "        e_final-=1\n",
    "        if inici <= final:\n",
    "            print (\"És simètrica i té\", ll_llista, \"elements\")\n",
    "else:\n",
    "    print (\"No és simètrica\")"
   ]
  },
  {
   "cell_type": "markdown",
   "id": "4b50cd4f",
   "metadata": {},
   "source": [
    "Exercici 5\n",
    "\n",
    "Crea un programa que donada una llista, et digui quants números coincideixen amb la seva posició. Per exemple [3,4,2,0,2,3,6] el 2 i el 6 coincideixen."
   ]
  },
  {
   "cell_type": "code",
   "execution_count": 19,
   "id": "20cf7611",
   "metadata": {},
   "outputs": [
    {
     "name": "stdout",
     "output_type": "stream",
     "text": [
      "Coincideixen els següents nombres:\n",
      "3\n",
      "7\n",
      "9\n"
     ]
    }
   ],
   "source": [
    "llargada_llista = len (llista) -1\n",
    "nums=0\n",
    "print (\"Coincideixen els següents nombres:\")\n",
    "while nums <= llargada_llista:\n",
    "    if llista [nums]==nums:\n",
    "        print (nums)\n",
    "    nums+=1"
   ]
  },
  {
   "cell_type": "code",
   "execution_count": null,
   "id": "39e4a365",
   "metadata": {},
   "outputs": [],
   "source": []
  }
 ],
 "metadata": {
  "kernelspec": {
   "display_name": "Python 3 (ipykernel)",
   "language": "python",
   "name": "python3"
  },
  "language_info": {
   "codemirror_mode": {
    "name": "ipython",
    "version": 3
   },
   "file_extension": ".py",
   "mimetype": "text/x-python",
   "name": "python",
   "nbconvert_exporter": "python",
   "pygments_lexer": "ipython3",
   "version": "3.8.10"
  }
 },
 "nbformat": 4,
 "nbformat_minor": 5
}
